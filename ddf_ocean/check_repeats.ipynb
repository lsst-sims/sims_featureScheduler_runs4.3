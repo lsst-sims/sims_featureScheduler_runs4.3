{
 "cells": [
  {
   "cell_type": "code",
   "execution_count": 1,
   "id": "b48d4b72-2a90-4982-9158-d2ef60892efd",
   "metadata": {},
   "outputs": [],
   "source": [
    "import numpy as np\n",
    "import sqlite3\n",
    "import pandas as pd\n",
    "import matplotlib.pylab as plt\n",
    "%matplotlib inline"
   ]
  },
  {
   "cell_type": "code",
   "execution_count": 26,
   "id": "11c497e7-77e0-49c4-be9c-5d1c6a0fa30e",
   "metadata": {},
   "outputs": [],
   "source": [
    "filename = \"ddf_ocean_ocean1_v4.3.4_10yrs.db\"\n",
    "run_name = filename.replace('.db', '')\n",
    "con = sqlite3.connect(filename)\n",
    "df = pd.read_sql(\"select * from observations;\", con)\n",
    "con.close()"
   ]
  },
  {
   "cell_type": "code",
   "execution_count": 27,
   "id": "11fcc3db-2c55-440e-841a-2bf7f5a9e72b",
   "metadata": {},
   "outputs": [
    {
     "data": {
      "text/plain": [
       "np.int64(276182)"
      ]
     },
     "execution_count": 27,
     "metadata": {},
     "output_type": "execute_result"
    }
   ],
   "source": [
    "indx = ['DD' in note  and \"RGES\" not in note for note in df[\"scheduler_note\"]]\n",
    "\n",
    "np.sum(indx)"
   ]
  },
  {
   "cell_type": "code",
   "execution_count": 28,
   "id": "c0d22733-34ef-4458-92d2-16a653cae1a6",
   "metadata": {},
   "outputs": [
    {
     "data": {
      "text/plain": [
       "276182"
      ]
     },
     "execution_count": 28,
     "metadata": {},
     "output_type": "execute_result"
    }
   ],
   "source": [
    "ack = df[\"scheduler_note\"].values[indx]\n",
    "ack.size"
   ]
  },
  {
   "cell_type": "code",
   "execution_count": 29,
   "id": "402a9842-3cdc-4d9c-9b8e-48e832a728a3",
   "metadata": {},
   "outputs": [],
   "source": [
    "uv, cs = np.unique(ack, return_counts=True)"
   ]
  },
  {
   "cell_type": "code",
   "execution_count": 30,
   "id": "d60f600f-242c-4bb1-b284-4e1a41781b1c",
   "metadata": {},
   "outputs": [
    {
     "data": {
      "text/plain": [
       "array([2, 2, 2, ..., 2, 2, 2], shape=(167389,))"
      ]
     },
     "execution_count": 30,
     "metadata": {},
     "output_type": "execute_result"
    }
   ],
   "source": [
    "cs\n"
   ]
  },
  {
   "cell_type": "code",
   "execution_count": 32,
   "id": "8e86bc31-2da0-4ff1-acf1-cca11513eccb",
   "metadata": {},
   "outputs": [
    {
     "data": {
      "text/plain": [
       "np.int64(1)"
      ]
     },
     "execution_count": 32,
     "metadata": {},
     "output_type": "execute_result"
    }
   ],
   "source": [
    "cs.min()"
   ]
  },
  {
   "cell_type": "code",
   "execution_count": 33,
   "id": "62eaf95b-2e7e-4775-9e08-e26d416c5660",
   "metadata": {},
   "outputs": [
    {
     "data": {
      "text/plain": [
       "array(['DD:COSMOS, 10000', 'DD:COSMOS, 10001', 'DD:COSMOS, 10002', ...,\n",
       "       'DD:XMM_LSS, 99997', 'DD:XMM_LSS, 99998', 'DD:XMM_LSS, 99999'],\n",
       "      shape=(167389,), dtype=object)"
      ]
     },
     "execution_count": 33,
     "metadata": {},
     "output_type": "execute_result"
    }
   ],
   "source": [
    "uv"
   ]
  },
  {
   "cell_type": "code",
   "execution_count": 39,
   "id": "ada1fee6-9fff-4bca-a67e-3675c6e5fd95",
   "metadata": {},
   "outputs": [
    {
     "data": {
      "text/plain": [
       "(array([53139, 53149]),)"
      ]
     },
     "execution_count": 39,
     "metadata": {},
     "output_type": "execute_result"
    }
   ],
   "source": [
    "np.where(df[\"scheduler_note\"].values == \"DD:COSMOS, 10000\")"
   ]
  },
  {
   "cell_type": "code",
   "execution_count": null,
   "id": "69a9b211-5600-4c1c-9653-98abfc7a9435",
   "metadata": {},
   "outputs": [],
   "source": []
  }
 ],
 "metadata": {
  "kernelspec": {
   "display_name": "Python 3 (ipykernel)",
   "language": "python",
   "name": "python3"
  },
  "language_info": {
   "codemirror_mode": {
    "name": "ipython",
    "version": 3
   },
   "file_extension": ".py",
   "mimetype": "text/x-python",
   "name": "python",
   "nbconvert_exporter": "python",
   "pygments_lexer": "ipython3",
   "version": "3.12.10"
  }
 },
 "nbformat": 4,
 "nbformat_minor": 5
}
