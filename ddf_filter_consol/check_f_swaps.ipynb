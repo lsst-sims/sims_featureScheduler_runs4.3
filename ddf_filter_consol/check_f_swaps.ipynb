{
 "cells": [
  {
   "cell_type": "code",
   "execution_count": 1,
   "id": "63e104fb-5755-4a20-9bac-3dd086c0f72d",
   "metadata": {},
   "outputs": [],
   "source": [
    "import numpy as np\n",
    "from ddf_presched import generate_ddf_scheduled_obs"
   ]
  },
  {
   "cell_type": "code",
   "execution_count": 3,
   "id": "a2a4a6f2-758d-447b-ac92-9a114cd7f8d8",
   "metadata": {},
   "outputs": [
    {
     "name": "stderr",
     "output_type": "stream",
     "text": [
      "/Users/yoachim/git_repos/sims_featureScheduler_runs4.3/ddf_filter_consol/ddf_presched.py:383: UserWarning: Asked for 75 XMM_LSS sequences, but only 58 nights. Decreasing sequences.\n",
      "  warnings.warn(\n",
      "/Users/yoachim/git_repos/sims_featureScheduler_runs4.3/ddf_filter_consol/ddf_presched.py:383: UserWarning: Asked for 100 XMM_LSS sequences, but only 72 nights. Decreasing sequences.\n",
      "  warnings.warn(\n",
      "/Users/yoachim/git_repos/sims_featureScheduler_runs4.3/ddf_filter_consol/ddf_presched.py:383: UserWarning: Asked for 100 XMM_LSS sequences, but only 74 nights. Decreasing sequences.\n",
      "  warnings.warn(\n",
      "/Users/yoachim/git_repos/sims_featureScheduler_runs4.3/ddf_filter_consol/ddf_presched.py:383: UserWarning: Asked for 75 ELAISS1 sequences, but only 46 nights. Decreasing sequences.\n",
      "  warnings.warn(\n",
      "/Users/yoachim/git_repos/sims_featureScheduler_runs4.3/ddf_filter_consol/ddf_presched.py:383: UserWarning: Asked for 75 ELAISS1 sequences, but only 48 nights. Decreasing sequences.\n",
      "  warnings.warn(\n",
      "/Users/yoachim/git_repos/sims_featureScheduler_runs4.3/ddf_filter_consol/ddf_presched.py:383: UserWarning: Asked for 100 ELAISS1 sequences, but only 54 nights. Decreasing sequences.\n",
      "  warnings.warn(\n",
      "/Users/yoachim/git_repos/sims_featureScheduler_runs4.3/ddf_filter_consol/ddf_presched.py:383: UserWarning: Asked for 100 ELAISS1 sequences, but only 56 nights. Decreasing sequences.\n",
      "  warnings.warn(\n",
      "/Users/yoachim/git_repos/sims_featureScheduler_runs4.3/ddf_filter_consol/ddf_presched.py:383: UserWarning: Asked for 100 ELAISS1 sequences, but only 94 nights. Decreasing sequences.\n",
      "  warnings.warn(\n",
      "/Users/yoachim/git_repos/sims_featureScheduler_runs4.3/ddf_filter_consol/ddf_presched.py:383: UserWarning: Asked for 75 ECDFS sequences, but only 67 nights. Decreasing sequences.\n",
      "  warnings.warn(\n",
      "/Users/yoachim/git_repos/sims_featureScheduler_runs4.3/ddf_filter_consol/ddf_presched.py:383: UserWarning: Asked for 100 ECDFS sequences, but only 81 nights. Decreasing sequences.\n",
      "  warnings.warn(\n",
      "/Users/yoachim/git_repos/sims_featureScheduler_runs4.3/ddf_filter_consol/ddf_presched.py:383: UserWarning: Asked for 100 ECDFS sequences, but only 82 nights. Decreasing sequences.\n",
      "  warnings.warn(\n",
      "/Users/yoachim/git_repos/sims_featureScheduler_runs4.3/ddf_filter_consol/ddf_presched.py:383: UserWarning: Asked for 75 ECDFS sequences, but only 53 nights. Decreasing sequences.\n",
      "  warnings.warn(\n",
      "/Users/yoachim/git_repos/sims_featureScheduler_runs4.3/ddf_filter_consol/ddf_presched.py:383: UserWarning: Asked for 75 ECDFS sequences, but only 68 nights. Decreasing sequences.\n",
      "  warnings.warn(\n",
      "/Users/yoachim/git_repos/sims_featureScheduler_runs4.3/ddf_filter_consol/ddf_presched.py:383: UserWarning: Asked for 100 ECDFS sequences, but only 71 nights. Decreasing sequences.\n",
      "  warnings.warn(\n",
      "/Users/yoachim/git_repos/sims_featureScheduler_runs4.3/ddf_filter_consol/ddf_presched.py:383: UserWarning: Asked for 100 ECDFS sequences, but only 70 nights. Decreasing sequences.\n",
      "  warnings.warn(\n",
      "/Users/yoachim/git_repos/sims_featureScheduler_runs4.3/ddf_filter_consol/ddf_presched.py:383: UserWarning: Asked for 75 EDFS_a sequences, but only 74 nights. Decreasing sequences.\n",
      "  warnings.warn(\n",
      "/Users/yoachim/git_repos/sims_featureScheduler_runs4.3/ddf_filter_consol/ddf_presched.py:383: UserWarning: Asked for 100 EDFS_a sequences, but only 90 nights. Decreasing sequences.\n",
      "  warnings.warn(\n",
      "/Users/yoachim/git_repos/sims_featureScheduler_runs4.3/ddf_filter_consol/ddf_presched.py:383: UserWarning: Asked for 100 EDFS_a sequences, but only 91 nights. Decreasing sequences.\n",
      "  warnings.warn(\n",
      "/Users/yoachim/git_repos/sims_featureScheduler_runs4.3/ddf_filter_consol/ddf_presched.py:383: UserWarning: Asked for 75 EDFS_a sequences, but only 58 nights. Decreasing sequences.\n",
      "  warnings.warn(\n",
      "/Users/yoachim/git_repos/sims_featureScheduler_runs4.3/ddf_filter_consol/ddf_presched.py:383: UserWarning: Asked for 75 EDFS_a sequences, but only 70 nights. Decreasing sequences.\n",
      "  warnings.warn(\n",
      "/Users/yoachim/git_repos/sims_featureScheduler_runs4.3/ddf_filter_consol/ddf_presched.py:383: UserWarning: Asked for 100 EDFS_a sequences, but only 73 nights. Decreasing sequences.\n",
      "  warnings.warn(\n"
     ]
    }
   ],
   "source": [
    "obs = generate_ddf_scheduled_obs(ddf_config_file=\"ocean6.dat\")"
   ]
  },
  {
   "cell_type": "code",
   "execution_count": 5,
   "id": "fbde16d1-37c8-4ded-a635-76d876de2bd4",
   "metadata": {},
   "outputs": [],
   "source": [
    "def n_change(values):\n",
    "    return np.sum(values[1:] != values[:-1])"
   ]
  },
  {
   "cell_type": "code",
   "execution_count": 8,
   "id": "601f909d-2097-46ac-8290-e471444f4f8f",
   "metadata": {},
   "outputs": [],
   "source": [
    "total_f_changes = 0\n",
    "\n",
    "for mjd in np.unique(obs[\"mjd\"]):\n",
    "    total_f_changes += n_change(obs[np.where(obs[\"mjd\"] == mjd)][\"band\"])"
   ]
  },
  {
   "cell_type": "code",
   "execution_count": 9,
   "id": "fdd60eef-611d-40e3-8d16-9de17f97874c",
   "metadata": {},
   "outputs": [
    {
     "data": {
      "text/plain": [
       "np.int64(16942)"
      ]
     },
     "execution_count": 9,
     "metadata": {},
     "output_type": "execute_result"
    }
   ],
   "source": [
    "total_f_changes"
   ]
  },
  {
   "cell_type": "code",
   "execution_count": 10,
   "id": "13ba02e0-5904-402d-a988-5bb5229da9c3",
   "metadata": {},
   "outputs": [
    {
     "data": {
      "text/plain": [
       "187993"
      ]
     },
     "execution_count": 10,
     "metadata": {},
     "output_type": "execute_result"
    }
   ],
   "source": [
    "obs.size"
   ]
  },
  {
   "cell_type": "code",
   "execution_count": null,
   "id": "2e26a153-a5ca-4533-981d-df1b3bad506b",
   "metadata": {},
   "outputs": [],
   "source": []
  }
 ],
 "metadata": {
  "kernelspec": {
   "display_name": "Python 3 (ipykernel)",
   "language": "python",
   "name": "python3"
  },
  "language_info": {
   "codemirror_mode": {
    "name": "ipython",
    "version": 3
   },
   "file_extension": ".py",
   "mimetype": "text/x-python",
   "name": "python",
   "nbconvert_exporter": "python",
   "pygments_lexer": "ipython3",
   "version": "3.12.10"
  }
 },
 "nbformat": 4,
 "nbformat_minor": 5
}
